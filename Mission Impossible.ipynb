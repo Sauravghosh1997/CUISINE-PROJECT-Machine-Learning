{
 "cells": [
  {
   "cell_type": "code",
   "execution_count": 9,
   "metadata": {},
   "outputs": [
    {
     "data": {
      "text/plain": [
       "0.7710550574038381"
      ]
     },
     "execution_count": 9,
     "metadata": {},
     "output_type": "execute_result"
    }
   ],
   "source": [
    "import sklearn.cluster\n",
    "import sklearn\n",
    "import sklearn.model_selection\n",
    "import json as js\n",
    "import csv as csv\n",
    "import scipy as scipy\n",
    "import numpy as np\n",
    "with open(\"C:\\\\Users\\\\Dell\\\\Desktop\\\\train.json\") as json_data:\n",
    "    data=js.load(json_data)\n",
    "    json_data.close()\n",
    "cuisines=[]\n",
    "ingredients=[]\n",
    "for i in range(len(data)):\n",
    "    ingredients.append(data[i][\"ingredients\"])\n",
    "for i in range(len(data)):\n",
    "    cuisines.append(data[i][\"cuisine\"])\n",
    "unique_ingredients=set(item for sublist in ingredients for item in sublist)\n",
    "unique_cuisines=set(classes)\n",
    "big_data_matrix=scipy.sparse.dok_matrix((len(ingredients),len(unique_ingredients)),dtype=np.dtype(bool))\n",
    "for d,dish in enumerate(ingredients):\n",
    "    for i,ingredients in enumerate(unique_ingredients):\n",
    "        if ingredients in dish:\n",
    "            big_data_matrix[d,i]=True\n",
    "x_train,x_test,y_train,y_test=sklearn.model_selection.train_test_split(big_data_matrix,cuisines,test_size=0.2)\n",
    "from sklearn.linear_model import LogisticRegression\n",
    "clf=LogisticRegression(random_state=0)\n",
    "clf.fit(x_train,y_train)\n",
    "clf.score(x_test,y_test)"
   ]
  },
  {
   "cell_type": "code",
   "execution_count": 12,
   "metadata": {},
   "outputs": [
    {
     "data": {
      "text/plain": [
       "array(['mexican', 'italian', 'italian', ..., 'mexican', 'italian',\n",
       "       'italian'], dtype='<U12')"
      ]
     },
     "execution_count": 12,
     "metadata": {},
     "output_type": "execute_result"
    }
   ],
   "source": [
    "import sklearn.cluster\n",
    "import sklearn\n",
    "import sklearn.model_selection\n",
    "import json as js\n",
    "import csv as csv\n",
    "import scipy as scipy\n",
    "import numpy as np\n",
    "\n",
    "with open(\"C:\\\\Users\\\\Dell\\\\Desktop\\\\test.json\") as json_data:\n",
    "    data=js.load(json_data)\n",
    "    json_data.close()\n",
    "    \n",
    "ingredients=[]\n",
    "\n",
    "for i in range(len(data)):\n",
    "    ingredients.append(data[i][\"ingredients\"])\n",
    "\n",
    "unique_ingredients=set(item for sublist in ingredients for item in sublist)\n",
    "\n",
    "big_data_matrix=scipy.sparse.dok_matrix((len(ingredients),6714),dtype=np.dtype(bool))\n",
    "\n",
    "for d,dish in enumerate(ingredients):\n",
    "    for i,ingredients in enumerate(unique_ingredients):\n",
    "        if ingredients in dish:\n",
    "            big_data_matrix[d,i]=True\n",
    "\n",
    "clf.predict(big_data_matrix)            "
   ]
  }
 ],
 "metadata": {
  "kernelspec": {
   "display_name": "Python 3",
   "language": "python",
   "name": "python3"
  },
  "language_info": {
   "codemirror_mode": {
    "name": "ipython",
    "version": 3
   },
   "file_extension": ".py",
   "mimetype": "text/x-python",
   "name": "python",
   "nbconvert_exporter": "python",
   "pygments_lexer": "ipython3",
   "version": "3.6.5"
  }
 },
 "nbformat": 4,
 "nbformat_minor": 2
}
